{
 "cells": [
  {
   "cell_type": "markdown",
   "id": "b86c64d8-a766-43e4-9240-0ff3310484cd",
   "metadata": {},
   "source": [
    "## Concatenation"
   ]
  },
  {
   "cell_type": "markdown",
   "id": "d8f1e871-296e-407e-a6cd-7da8d9e78871",
   "metadata": {},
   "source": [
    "- Method -1 (using + Operation)\n",
    "- Method -2 (using f-string)\n",
    "- Method -3 (using .format)"
   ]
  },
  {
   "cell_type": "raw",
   "id": "ebc1e840-3369-4db8-92a1-990b5a4eb119",
   "metadata": {},
   "source": [
    "Q: Create a string using all formating methods that print your first_name and last_name with some extra added sentence that describe you."
   ]
  },
  {
   "cell_type": "code",
   "execution_count": 23,
   "id": "a440bfe2-d0a2-4a7c-ab09-eb12c8e8206e",
   "metadata": {},
   "outputs": [
    {
     "name": "stdin",
     "output_type": "stream",
     "text": [
      "Enter your first name:  muneeb \n",
      "Enter your last name:  ahmed\n"
     ]
    }
   ],
   "source": [
    "first_name= input(\"Enter your first name: \")\n",
    "last_name = input(\"Enter your last name: \")"
   ]
  },
  {
   "cell_type": "code",
   "execution_count": 24,
   "id": "fb13814e-88e1-4296-a6bd-f4173ddc84d5",
   "metadata": {},
   "outputs": [
    {
     "name": "stdout",
     "output_type": "stream",
     "text": [
      "my name is muneeb  ahmed\n"
     ]
    }
   ],
   "source": [
    "print(\"my name is\", first_name+\" \"+last_name)"
   ]
  },
  {
   "cell_type": "code",
   "execution_count": 25,
   "id": "c34cbc2b-c4ba-47e2-ad40-ef713ac5f6bc",
   "metadata": {},
   "outputs": [
    {
     "name": "stdout",
     "output_type": "stream",
     "text": [
      "my name is muneeb  ahmed\n"
     ]
    }
   ],
   "source": [
    "print(f\"my name is {first_name} {last_name}\")"
   ]
  },
  {
   "cell_type": "code",
   "execution_count": 26,
   "id": "cfddff01-99be-46df-ad31-adbc6e00188d",
   "metadata": {},
   "outputs": [
    {
     "name": "stdout",
     "output_type": "stream",
     "text": [
      "my name is muneeb  ahmed\n"
     ]
    }
   ],
   "source": [
    "print(\"my name is {0} {1}\".format(first_name,last_name))"
   ]
  },
  {
   "cell_type": "code",
   "execution_count": 32,
   "id": "31279f6f-c864-44cc-9deb-7f76b3c33bdd",
   "metadata": {},
   "outputs": [
    {
     "name": "stdout",
     "output_type": "stream",
     "text": [
      "False\n",
      "False\n"
     ]
    }
   ],
   "source": [
    "name=\"Muneeb Ahmed\"\n",
    "print(name.isupper())\n",
    "print(name.islower())"
   ]
  },
  {
   "cell_type": "markdown",
   "id": "40a3e18f-2e73-4aae-924e-9f7b3b61677a",
   "metadata": {},
   "source": [
    "## Conditional Statement"
   ]
  },
  {
   "cell_type": "code",
   "execution_count": 40,
   "id": "2036e980-525b-4d38-a4fe-0a07890dbfb4",
   "metadata": {},
   "outputs": [
    {
     "name": "stdout",
     "output_type": "stream",
     "text": [
      "you will get your certificate\n"
     ]
    }
   ],
   "source": [
    "Muneeb_Pass = True\n",
    "if Muneeb_Pass:\n",
    "    print(\"you are eligible certificate\")\n",
    "else:\n",
    "    print(\"you are not eligible for cretificate\")"
   ]
  },
  {
   "cell_type": "code",
   "execution_count": 43,
   "id": "dd643eda-7141-450f-acac-c572611676de",
   "metadata": {},
   "outputs": [
    {
     "name": "stdin",
     "output_type": "stream",
     "text": [
      "Enter your Grade:  30\n"
     ]
    },
    {
     "name": "stdout",
     "output_type": "stream",
     "text": [
      "you got d grade\n"
     ]
    }
   ],
   "source": [
    "grade=int(input(\"Enter your Grade: \"))\n",
    "\n",
    "if grade>=90:\n",
    "    print(\"you got a grade\")\n",
    "elif grade>=80:\n",
    "    print(\"you got b grade\")\n",
    "elif grade>=70:\n",
    "    print(\"you got c grade\")\n",
    "else:\n",
    "    print(\"you got d grade\")"
   ]
  },
  {
   "cell_type": "markdown",
   "id": "7df081ee-8266-45a2-a288-93018750107e",
   "metadata": {},
   "source": [
    "## nested if-else"
   ]
  },
  {
   "cell_type": "code",
   "execution_count": 46,
   "id": "af82fcb6-23f9-4bb9-a08c-03cfe954883a",
   "metadata": {},
   "outputs": [
    {
     "name": "stdout",
     "output_type": "stream",
     "text": [
      "shop is open, have to check for rice\n"
     ]
    },
    {
     "name": "stdin",
     "output_type": "stream",
     "text": [
      "check for rice:  True\n"
     ]
    },
    {
     "name": "stdout",
     "output_type": "stream",
     "text": [
      "buy 1 kg\n"
     ]
    }
   ],
   "source": [
    "shop_open = True\n",
    "\n",
    "if shop_open:\n",
    "    print(\"shop is open, have to check for rice\")\n",
    "    basmati_rice=input(\"check for rice: \")\n",
    "    if basmati_rice==\"True\":\n",
    "        print(\"buy 1 kg\")\n",
    "    else:\n",
    "        print(\"go to next shop\")\n",
    "else:\n",
    "    print(\"shop is closed\")\n"
   ]
  },
  {
   "cell_type": "code",
   "execution_count": 50,
   "id": "59ce33b2-197a-45cc-80e6-9af86c166ef7",
   "metadata": {},
   "outputs": [
    {
     "name": "stdin",
     "output_type": "stream",
     "text": [
      "Enter your age:  20\n"
     ]
    },
    {
     "name": "stdout",
     "output_type": "stream",
     "text": [
      "you are eligible for voting\n"
     ]
    }
   ],
   "source": [
    "age =int(input(\"Enter your age: \"))\n",
    "\n",
    "if age>= 18:\n",
    "    print(\"you are eligible for voting\")\n",
    "else:\n",
    "    print(\"you are not eligible for voting\")"
   ]
  },
  {
   "cell_type": "code",
   "execution_count": 63,
   "id": "3804f90e-f15d-4a4f-a9af-1f0c4c96d0db",
   "metadata": {},
   "outputs": [
    {
     "name": "stdin",
     "output_type": "stream",
     "text": [
      "your number is:  10\n"
     ]
    },
    {
     "name": "stdout",
     "output_type": "stream",
     "text": [
      "number 10 is even\n"
     ]
    }
   ],
   "source": [
    "number=int(input(\"your number is: \"))\n",
    "if number%2==0:\n",
    "    print(f\"number {number} is even\")\n",
    "else:\n",
    "    print(f\"number {number}is odd\")"
   ]
  },
  {
   "cell_type": "code",
   "execution_count": 65,
   "id": "c194d8d3-2a0f-4331-940e-6fcc159c6f07",
   "metadata": {},
   "outputs": [
    {
     "name": "stdin",
     "output_type": "stream",
     "text": [
      "Enter a number:  10\n"
     ]
    },
    {
     "name": "stdout",
     "output_type": "stream",
     "text": [
      "hello\n"
     ]
    }
   ],
   "source": [
    "num=int(input(\"Enter a number: \"))\n",
    "if num%5==0:\n",
    "    print(\"hello\")\n",
    "else:\n",
    "    print(\"bye\")"
   ]
  },
  {
   "cell_type": "markdown",
   "id": "f6582992-6e9e-4d0f-b259-13ad4a11458b",
   "metadata": {},
   "source": [
    "## Operators"
   ]
  },
  {
   "cell_type": "markdown",
   "id": "a52cea5a-ba61-44d8-aecc-d2676e9286f2",
   "metadata": {},
   "source": [
    "- NOT\n",
    "- AND\n",
    "- OR"
   ]
  },
  {
   "cell_type": "code",
   "execution_count": 69,
   "id": "725669ce-dd50-43ef-a21e-117c9e9de954",
   "metadata": {},
   "outputs": [
    {
     "data": {
      "text/plain": [
       "False"
      ]
     },
     "execution_count": 69,
     "metadata": {},
     "output_type": "execute_result"
    }
   ],
   "source": [
    "not True\n"
   ]
  },
  {
   "cell_type": "code",
   "execution_count": 68,
   "id": "3813e46c-a719-4f21-bcda-60f96655e356",
   "metadata": {},
   "outputs": [
    {
     "data": {
      "text/plain": [
       "True"
      ]
     },
     "execution_count": 68,
     "metadata": {},
     "output_type": "execute_result"
    }
   ],
   "source": [
    "not False"
   ]
  },
  {
   "cell_type": "code",
   "execution_count": 70,
   "id": "b986dca9-e78b-4cf4-a426-81c005a6bd8d",
   "metadata": {},
   "outputs": [
    {
     "data": {
      "text/plain": [
       "True"
      ]
     },
     "execution_count": 70,
     "metadata": {},
     "output_type": "execute_result"
    }
   ],
   "source": [
    "(7>6) and (3<4) # ager in main sey koi bhi ek condition ghalat ho wah false dikahyega\n",
    "\n"
   ]
  },
  {
   "cell_type": "code",
   "execution_count": 71,
   "id": "3d097f83-7824-4ef7-afe2-6e4a7bf1e933",
   "metadata": {},
   "outputs": [
    {
     "data": {
      "text/plain": [
       "True"
      ]
     },
     "execution_count": 71,
     "metadata": {},
     "output_type": "execute_result"
    }
   ],
   "source": [
    "(7>6) or (7<4) # ager in main sey koi bhi ek condition sahi ho wah true dikahyega"
   ]
  },
  {
   "cell_type": "code",
   "execution_count": 76,
   "id": "f7605000-7d67-42d3-b516-5cf8d2c36427",
   "metadata": {},
   "outputs": [
    {
     "name": "stdin",
     "output_type": "stream",
     "text": [
      "Enter Student Marks:  79\n"
     ]
    },
    {
     "name": "stdout",
     "output_type": "stream",
     "text": [
      " you Marks is 79 your grade is B\n"
     ]
    }
   ],
   "source": [
    "marks=int(input(\"Enter Student Marks: \"))\n",
    "if marks >=0 and marks<25:\n",
    "    print(f\"you Marks is {marks} your grade is F\")\n",
    "elif marks >=25 and marks<45:\n",
    "    print(f\"you Marks is {marks} your grade is E\")\n",
    "elif marks >=45 and marks<50:\n",
    "    print(f\"you Marks is {marks} your grade is D\")\n",
    "elif marks >=50 and marks<60:\n",
    "    print(f\"you Marks is {marks} your grade is C\")\n",
    "elif marks >=60 and marks<80:\n",
    "    print(f\"you Marks is {marks} your grade is B\")\n",
    "elif marks >=80 and marks<=100:\n",
    "    print(f\"you Marks is {marks} your grade is A\")\n",
    "else:\n",
    "    print(\"invalid input\")\n",
    "    \n",
    "\n",
    "            \n",
    "          "
   ]
  },
  {
   "cell_type": "markdown",
   "id": "464a7032-5fde-407f-9933-b40f47e2e2d4",
   "metadata": {},
   "source": [
    "## Methods of any type"
   ]
  },
  {
   "cell_type": "markdown",
   "id": "238b7a67-95c3-4f41-8df9-15ac2f2ec659",
   "metadata": {},
   "source": [
    "### Positive Slicing"
   ]
  },
  {
   "cell_type": "code",
   "execution_count": 78,
   "id": "b67b536e-59ac-46a3-a358-cc03369b365f",
   "metadata": {},
   "outputs": [
    {
     "data": {
      "text/plain": [
       "'Muneeb'"
      ]
     },
     "execution_count": 78,
     "metadata": {},
     "output_type": "execute_result"
    }
   ],
   "source": [
    "str= \"muneeb ahmed\"\n",
    "str[0:6]"
   ]
  },
  {
   "cell_type": "markdown",
   "id": "fc9a685a-29bf-4c93-af10-d9bcf4b98c40",
   "metadata": {},
   "source": [
    "### Negative Slicing"
   ]
  },
  {
   "cell_type": "code",
   "execution_count": 91,
   "id": "ff0ed45d-93d7-4535-b81f-49ae54b54464",
   "metadata": {},
   "outputs": [
    {
     "data": {
      "text/plain": [
       "'Ahmed'"
      ]
     },
     "execution_count": 91,
     "metadata": {},
     "output_type": "execute_result"
    }
   ],
   "source": [
    "str[-5:12]"
   ]
  },
  {
   "cell_type": "code",
   "execution_count": 92,
   "id": "82d1fe70-1e90-4206-adbb-015fb802347a",
   "metadata": {},
   "outputs": [
    {
     "data": {
      "text/plain": [
       "'MUNEEB AHMED'"
      ]
     },
     "execution_count": 92,
     "metadata": {},
     "output_type": "execute_result"
    }
   ],
   "source": [
    "str.upper()"
   ]
  },
  {
   "cell_type": "code",
   "execution_count": 93,
   "id": "f39f08c4-384d-4546-a6dc-f60b793b2035",
   "metadata": {},
   "outputs": [
    {
     "data": {
      "text/plain": [
       "'muneeb ahmed'"
      ]
     },
     "execution_count": 93,
     "metadata": {},
     "output_type": "execute_result"
    }
   ],
   "source": [
    "str.lower()"
   ]
  },
  {
   "cell_type": "code",
   "execution_count": 94,
   "id": "1e3fd655-91d9-4b3a-a55e-5be03a7ef7e5",
   "metadata": {},
   "outputs": [
    {
     "data": {
      "text/plain": [
       "False"
      ]
     },
     "execution_count": 94,
     "metadata": {},
     "output_type": "execute_result"
    }
   ],
   "source": [
    "str.islower()"
   ]
  },
  {
   "cell_type": "code",
   "execution_count": 95,
   "id": "93ca9f9b-9cfb-4e8e-a903-f5d0e491e8cb",
   "metadata": {},
   "outputs": [
    {
     "data": {
      "text/plain": [
       "'mUNEEB aHMED'"
      ]
     },
     "execution_count": 95,
     "metadata": {},
     "output_type": "execute_result"
    }
   ],
   "source": [
    "str.swapcase()"
   ]
  },
  {
   "cell_type": "code",
   "execution_count": 97,
   "id": "8452cd86-255f-4b5b-a042-de991f6c10b5",
   "metadata": {},
   "outputs": [
    {
     "data": {
      "text/plain": [
       "True"
      ]
     },
     "execution_count": 97,
     "metadata": {},
     "output_type": "execute_result"
    }
   ],
   "source": [
    "str.endswith(\"d\")"
   ]
  },
  {
   "cell_type": "code",
   "execution_count": 99,
   "id": "c9ebf6a3-07f9-41e4-b5b9-96a4d26c8425",
   "metadata": {},
   "outputs": [
    {
     "data": {
      "text/plain": [
       "True"
      ]
     },
     "execution_count": 99,
     "metadata": {},
     "output_type": "execute_result"
    }
   ],
   "source": [
    "str.startswith(\"M\")"
   ]
  },
  {
   "cell_type": "code",
   "execution_count": 100,
   "id": "836a9e6f-35e7-4b6c-9cf4-199a7672c803",
   "metadata": {},
   "outputs": [
    {
     "data": {
      "text/plain": [
       "-1"
      ]
     },
     "execution_count": 100,
     "metadata": {},
     "output_type": "execute_result"
    }
   ],
   "source": [
    "str.find(\"a\")"
   ]
  },
  {
   "cell_type": "code",
   "execution_count": 104,
   "id": "acf50bad-692e-4322-9cce-4a2dbc29c830",
   "metadata": {},
   "outputs": [
    {
     "data": {
      "text/plain": [
       "False"
      ]
     },
     "execution_count": 104,
     "metadata": {},
     "output_type": "execute_result"
    }
   ],
   "source": [
    "str.isupper()"
   ]
  },
  {
   "cell_type": "code",
   "execution_count": 3,
   "id": "028b9120-a8d2-46be-9d2c-757fb22687c6",
   "metadata": {},
   "outputs": [
    {
     "ename": "TypeError",
     "evalue": "unbound method str.lower() needs an argument",
     "output_type": "error",
     "traceback": [
      "\u001b[1;31m---------------------------------------------------------------------------\u001b[0m",
      "\u001b[1;31mTypeError\u001b[0m                                 Traceback (most recent call last)",
      "Cell \u001b[1;32mIn[3], line 1\u001b[0m\n\u001b[1;32m----> 1\u001b[0m \u001b[38;5;28;43mstr\u001b[39;49m\u001b[38;5;241;43m.\u001b[39;49m\u001b[43mlower\u001b[49m\u001b[43m(\u001b[49m\u001b[43m)\u001b[49m\n",
      "\u001b[1;31mTypeError\u001b[0m: unbound method str.lower() needs an argument"
     ]
    }
   ],
   "source": [
    "str.lower()\n",
    "\n"
   ]
  },
  {
   "cell_type": "code",
   "execution_count": 5,
   "id": "43241756-68b7-43df-90a9-d44502055c32",
   "metadata": {},
   "outputs": [
    {
     "data": {
      "text/plain": [
       "'Muneeb'"
      ]
     },
     "execution_count": 5,
     "metadata": {},
     "output_type": "execute_result"
    }
   ],
   "source": [
    "\"muneeb\".title()"
   ]
  },
  {
   "cell_type": "code",
   "execution_count": null,
   "id": "065fd41e-a8ab-49c7-8cd5-234cb1601a06",
   "metadata": {},
   "outputs": [],
   "source": []
  }
 ],
 "metadata": {
  "kernelspec": {
   "display_name": "Python 3 (ipykernel)",
   "language": "python",
   "name": "python3"
  },
  "language_info": {
   "codemirror_mode": {
    "name": "ipython",
    "version": 3
   },
   "file_extension": ".py",
   "mimetype": "text/x-python",
   "name": "python",
   "nbconvert_exporter": "python",
   "pygments_lexer": "ipython3",
   "version": "3.13.5"
  }
 },
 "nbformat": 4,
 "nbformat_minor": 5
}
