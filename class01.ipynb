{
 "cells": [
  {
   "cell_type": "code",
   "execution_count": 4,
   "id": "89afc757-7c4f-4d13-b39d-e3637edf220f",
   "metadata": {},
   "outputs": [
    {
     "name": "stdout",
     "output_type": "stream",
     "text": [
      "my\n",
      "name is muneeb\n",
      "ahmed\n"
     ]
    }
   ],
   "source": [
    "print(\"\"\"my\n",
    "name is muneeb\n",
    "ahmed\"\"\")"
   ]
  },
  {
   "cell_type": "markdown",
   "id": "6df0f5ab-85bc-427d-8bf1-885b9b3a24d4",
   "metadata": {},
   "source": [
    "### Variable for string"
   ]
  },
  {
   "cell_type": "code",
   "execution_count": 10,
   "id": "3a35a85b-00ed-4c79-9471-f3e435e925c5",
   "metadata": {},
   "outputs": [
    {
     "name": "stdout",
     "output_type": "stream",
     "text": [
      "Shano ahmed\n"
     ]
    }
   ],
   "source": [
    "first_name=\"Shano\"\n",
    "last_name=\"ahmed\"\n",
    "print(first_name+\" \"+last_name)"
   ]
  },
  {
   "cell_type": "markdown",
   "id": "6f6a392a-8996-4f96-a0b6-1d25375e7465",
   "metadata": {},
   "source": [
    "### Variable for numbers"
   ]
  },
  {
   "cell_type": "code",
   "execution_count": 23,
   "id": "0ef677ec-9ade-441d-bbc7-40fef714e35f",
   "metadata": {},
   "outputs": [
    {
     "name": "stdout",
     "output_type": "stream",
     "text": [
      "2.0\n"
     ]
    }
   ],
   "source": [
    "x=5\n",
    "x+=3\n",
    "x-=3\n",
    "x*=3\n",
    "x/=3\n",
    "x%=3\n",
    "print(x)"
   ]
  },
  {
   "cell_type": "code",
   "execution_count": 24,
   "id": "e521be79-8a8a-44f9-a990-3966d2cfe191",
   "metadata": {},
   "outputs": [
    {
     "name": "stdin",
     "output_type": "stream",
     "text": [
      "what is your first name:  muneeb\n",
      "what is your second name:  ahmed\n"
     ]
    },
    {
     "name": "stdout",
     "output_type": "stream",
     "text": [
      "muneeb ahmed\n"
     ]
    }
   ],
   "source": [
    "name=input(\"what is your first name: \")\n",
    "name_second = input(\"what is your second name: \")\n",
    "print(name,name_second)\n"
   ]
  },
  {
   "cell_type": "code",
   "execution_count": 1,
   "id": "16eea18c-0140-4935-9792-b5a0278e8b74",
   "metadata": {},
   "outputs": [
    {
     "name": "stdin",
     "output_type": "stream",
     "text": [
      "Enter First Number:  3\n",
      "Enter Second Number:  5\n"
     ]
    },
    {
     "name": "stdout",
     "output_type": "stream",
     "text": [
      "15\n"
     ]
    }
   ],
   "source": [
    "num1=input(\"Enter First Number: \")\n",
    "num2=input(\"Enter Second Number: \")\n",
    "print(int(num1)*int(num2))"
   ]
  },
  {
   "cell_type": "code",
   "execution_count": 6,
   "id": "634fb3db-51b0-4c91-b50b-e5d102ddb64a",
   "metadata": {},
   "outputs": [
    {
     "data": {
      "text/plain": [
       "8"
      ]
     },
     "execution_count": 6,
     "metadata": {},
     "output_type": "execute_result"
    }
   ],
   "source": [
    "2**3\n"
   ]
  },
  {
   "cell_type": "code",
   "execution_count": 7,
   "id": "d3486bff-f754-472c-ade6-229fe0e9ebc8",
   "metadata": {},
   "outputs": [
    {
     "data": {
      "text/plain": [
       "3"
      ]
     },
     "execution_count": 7,
     "metadata": {},
     "output_type": "execute_result"
    }
   ],
   "source": [
    "15/5\n",
    "15//5"
   ]
  },
  {
   "cell_type": "code",
   "execution_count": null,
   "id": "b57e9f17-ba79-435e-b485-0541871a9365",
   "metadata": {},
   "outputs": [],
   "source": []
  }
 ],
 "metadata": {
  "kernelspec": {
   "display_name": "Python 3 (ipykernel)",
   "language": "python",
   "name": "python3"
  },
  "language_info": {
   "codemirror_mode": {
    "name": "ipython",
    "version": 3
   },
   "file_extension": ".py",
   "mimetype": "text/x-python",
   "name": "python",
   "nbconvert_exporter": "python",
   "pygments_lexer": "ipython3",
   "version": "3.13.5"
  }
 },
 "nbformat": 4,
 "nbformat_minor": 5
}
