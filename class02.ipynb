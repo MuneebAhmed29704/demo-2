{
 "cells": [
  {
   "cell_type": "code",
   "execution_count": 1,
   "id": "1a54c3a0-8ab9-4eb9-8e0e-5a2fe0d6464a",
   "metadata": {},
   "outputs": [
    {
     "name": "stdout",
     "output_type": "stream",
     "text": [
      "hello world\n"
     ]
    }
   ],
   "source": [
    "print(\"hello world\")"
   ]
  },
  {
   "cell_type": "raw",
   "id": "b538caae-1253-4397-adbb-cf63cb4adf91",
   "metadata": {},
   "source": [
    "This is raw cell and you can add simple plain text here.."
   ]
  },
  {
   "cell_type": "markdown",
   "id": "e476c122-fc22-4cc2-b772-296920ef9eb6",
   "metadata": {},
   "source": [
    "This is a markdown celll so we have to follow the markdown syntax"
   ]
  },
  {
   "cell_type": "markdown",
   "id": "f13fd530-907b-4803-80ad-adc6b819608c",
   "metadata": {},
   "source": [
    "#### Shortcuts for jupyter notebook"
   ]
  },
  {
   "cell_type": "markdown",
   "id": "a90825e7-a43f-4f99-b561-fa3d08b0a574",
   "metadata": {},
   "source": [
    "- ESC + M (to convert cell into markdown)\n",
    "- ESC + R (to convert cell into raw)\n",
    "- ESC + Y (to convert cell into code)\n",
    "- ESC + A (to create cell above the present cell)\n",
    "- ESC + B (to create call below present cell)\n",
    "- ESC + DD (to delete present cell)\n",
    "- SHIFT + ENTER (to run cell and go to next cell)\n",
    "- CTRL + ENTER (to run cell and not moving to next cell)\n",
    "- CTRL + SHIFT + H (to get all jupyter notebook shortcuts)\n",
    "- 1#-6# (for level 1/level 6 heading)"
   ]
  },
  {
   "cell_type": "markdown",
   "id": "102035e4-d1dd-4e72-9426-a2b4ea1b623c",
   "metadata": {},
   "source": [
    "# This is level 1 Heading\n",
    "## This is level 2 Heading\n",
    "### This is level 3 Heading\n",
    "#### This is level 4 Heading\n",
    "##### This is level 5 Heading\n",
    "###### This is level 6 Heading"
   ]
  },
  {
   "cell_type": "markdown",
   "id": "7eb20484-f5ea-4e62-83f6-02610797bcf5",
   "metadata": {},
   "source": [
    "## Variables"
   ]
  },
  {
   "cell_type": "code",
   "execution_count": 2,
   "id": "11a3fcd5-5487-4a21-878a-59de835f6782",
   "metadata": {},
   "outputs": [],
   "source": [
    "name = \"Muneeb Ahmed\"\n",
    "age = 21\n",
    "weight = 53.4"
   ]
  },
  {
   "cell_type": "code",
   "execution_count": 4,
   "id": "e162c9eb-dbce-43f1-b409-7edec83472f5",
   "metadata": {},
   "outputs": [
    {
     "name": "stdout",
     "output_type": "stream",
     "text": [
      "<class 'str'>\n",
      "<class 'int'>\n",
      "<class 'float'>\n"
     ]
    }
   ],
   "source": [
    "print(type(name))\n",
    "print(type(age))\n",
    "print(type(weight))"
   ]
  },
  {
   "cell_type": "code",
   "execution_count": 3,
   "id": "754363be-fedc-49ea-9159-ef860f0441c7",
   "metadata": {},
   "outputs": [
    {
     "data": {
      "text/plain": [
       "2597642955056"
      ]
     },
     "execution_count": 3,
     "metadata": {},
     "output_type": "execute_result"
    }
   ],
   "source": [
    "id(name)"
   ]
  },
  {
   "cell_type": "markdown",
   "id": "745c5aa8-aae7-4440-b3d9-c9f052aed3dc",
   "metadata": {},
   "source": [
    "## Operators"
   ]
  },
  {
   "cell_type": "raw",
   "id": "da2757d4-30b0-430c-83fc-30de45ef4f17",
   "metadata": {},
   "source": [
    "+\n",
    "*\n",
    "/\n",
    "//\n",
    "%\n",
    "-\n",
    "**"
   ]
  },
  {
   "cell_type": "markdown",
   "id": "be170a77-cbca-4499-aa07-e5ac85ba71e9",
   "metadata": {},
   "source": [
    "## Expressions"
   ]
  },
  {
   "cell_type": "markdown",
   "id": "8b4f9cad-e37d-4c26-b48d-d4984b4055d3",
   "metadata": {},
   "source": [
    "PEMDAS:\n",
    "- Parenthesis\n",
    "- Exponential (power)\n",
    "- Multiplication\n",
    "- Division\n",
    "- Addition\n",
    "- Subtraction"
   ]
  },
  {
   "cell_type": "markdown",
   "id": "cf2cd665-29cd-4c06-8cfa-183f4564e784",
   "metadata": {},
   "source": [
    "## Advance operators"
   ]
  },
  {
   "cell_type": "markdown",
   "id": "e93043a7-8d36-4bfa-92b8-f49856f73065",
   "metadata": {},
   "source": [
    "- +=\n",
    "- -=\n",
    "- /=\n",
    "- <\n",
    "- >\n",
    "- <=\n",
    "- >=\n",
    "- <> or !\n",
    "- ==\n",
    "- !="
   ]
  },
  {
   "cell_type": "markdown",
   "id": "da1ec9f3-a054-4216-91b1-f4d36325e074",
   "metadata": {},
   "source": [
    "## Concatenating String"
   ]
  },
  {
   "cell_type": "code",
   "execution_count": 26,
   "id": "6170ec25-3c7a-47e3-891e-22688458e583",
   "metadata": {},
   "outputs": [],
   "source": [
    "f_name=\"Muneeb\"\n",
    "l_name=\"Ahmed\"\n",
    "full_name= f_name +\" \"+ l_name\n"
   ]
  },
  {
   "cell_type": "code",
   "execution_count": 36,
   "id": "6381d50e-90e9-4ce7-85d7-2a363584431f",
   "metadata": {},
   "outputs": [
    {
     "data": {
      "text/plain": [
       "'Muneeb Ahmed'"
      ]
     },
     "execution_count": 36,
     "metadata": {},
     "output_type": "execute_result"
    }
   ],
   "source": [
    "full_name\n"
   ]
  },
  {
   "cell_type": "code",
   "execution_count": 29,
   "id": "324dd9a5-00d6-431d-b79c-66cd2d43b90a",
   "metadata": {},
   "outputs": [],
   "source": [
    "full_name= \"{0} {1}\".format(f_name,l_name)"
   ]
  },
  {
   "cell_type": "code",
   "execution_count": 33,
   "id": "89e36358-a6b3-4849-9cb5-db6fe631d4ab",
   "metadata": {},
   "outputs": [
    {
     "data": {
      "text/plain": [
       "'Muneeb Ahmed'"
      ]
     },
     "execution_count": 33,
     "metadata": {},
     "output_type": "execute_result"
    }
   ],
   "source": [
    "full_name"
   ]
  },
  {
   "cell_type": "code",
   "execution_count": 31,
   "id": "b7ff1337-150f-43b0-984d-aa4de0fc659f",
   "metadata": {},
   "outputs": [],
   "source": [
    "full_name=f\"{f_name} {l_name}\"\n"
   ]
  },
  {
   "cell_type": "code",
   "execution_count": 35,
   "id": "d544a0d2-c4cb-4436-b02b-5531ca204f11",
   "metadata": {},
   "outputs": [
    {
     "data": {
      "text/plain": [
       "'Muneeb Ahmed'"
      ]
     },
     "execution_count": 35,
     "metadata": {},
     "output_type": "execute_result"
    }
   ],
   "source": [
    "full_name"
   ]
  },
  {
   "cell_type": "code",
   "execution_count": 3,
   "id": "544cb7ab-e09a-40bb-a5d7-c9f9c79fd108",
   "metadata": {},
   "outputs": [
    {
     "data": {
      "text/plain": [
       "'hamza hamza hamza'"
      ]
     },
     "execution_count": 3,
     "metadata": {},
     "output_type": "execute_result"
    }
   ],
   "source": [
    "\"{1} {1} {1}\".format(\"ali\",\"hamza\",\"muneeb\")\n"
   ]
  },
  {
   "cell_type": "code",
   "execution_count": null,
   "id": "17dfda98-93e7-488c-a812-706f0dcd2238",
   "metadata": {},
   "outputs": [],
   "source": []
  }
 ],
 "metadata": {
  "kernelspec": {
   "display_name": "Python 3 (ipykernel)",
   "language": "python",
   "name": "python3"
  },
  "language_info": {
   "codemirror_mode": {
    "name": "ipython",
    "version": 3
   },
   "file_extension": ".py",
   "mimetype": "text/x-python",
   "name": "python",
   "nbconvert_exporter": "python",
   "pygments_lexer": "ipython3",
   "version": "3.13.5"
  }
 },
 "nbformat": 4,
 "nbformat_minor": 5
}
