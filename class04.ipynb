{
 "cells": [
  {
   "cell_type": "markdown",
   "id": "25ecc5f8-a98c-4e77-98ff-c3c2e7ba0cef",
   "metadata": {},
   "source": [
    "### Lists"
   ]
  },
  {
   "cell_type": "code",
   "execution_count": 1,
   "id": "13559d2e-d9f8-4e1e-a0db-45769793a226",
   "metadata": {},
   "outputs": [],
   "source": [
    "Cities=[\"Atlanta\",\"Baltimore\",\"Chicago\",\"Denver\",\"LOs Angeles\",\"Seattle\"]"
   ]
  },
  {
   "cell_type": "code",
   "execution_count": 2,
   "id": "1452755a-fde1-4804-a915-14c30d072677",
   "metadata": {},
   "outputs": [
    {
     "data": {
      "text/plain": [
       "(list, 2027801005376)"
      ]
     },
     "execution_count": 2,
     "metadata": {},
     "output_type": "execute_result"
    }
   ],
   "source": [
    "type(Cities),id(Cities)"
   ]
  },
  {
   "cell_type": "code",
   "execution_count": 17,
   "id": "3a692be9-2b37-448c-aa65-b52739bfbc14",
   "metadata": {},
   "outputs": [
    {
     "name": "stdout",
     "output_type": "stream",
     "text": [
      "['Atlanta', 'Baltimore', 'Chicago', 'Denver', 'LOs Angeles', 'Seattle', 'Karachi', 'Karachi', 'Karachi', 'Karachi', 'Karachi', 'karachi', 'karachi', 'karachi']\n"
     ]
    }
   ],
   "source": [
    "Cities.append(\"karachi\")\n",
    "print(Cities)\n"
   ]
  },
  {
   "cell_type": "code",
   "execution_count": 94,
   "id": "6f9e8c99-6569-48c4-9adf-0133b622019c",
   "metadata": {},
   "outputs": [
    {
     "name": "stdout",
     "output_type": "stream",
     "text": [
      "['Atlanta', 'Baltimore', 'Chicago', 'Denver', 'LOs Angeles', 'Seattle', 'islamabad', 'Quetta']\n"
     ]
    }
   ],
   "source": [
    "Cities2=[\"islamabad\",\"Quetta\"]\n",
    "Cities.extend(Cities2)\n",
    "print(Cities)"
   ]
  },
  {
   "cell_type": "code",
   "execution_count": 18,
   "id": "1f14956e-5588-4ff7-8188-ac60635bccc8",
   "metadata": {},
   "outputs": [
    {
     "data": {
      "text/plain": [
       "11"
      ]
     },
     "execution_count": 18,
     "metadata": {},
     "output_type": "execute_result"
    }
   ],
   "source": [
    "Cities.index(\"karachi\")"
   ]
  },
  {
   "cell_type": "code",
   "execution_count": 19,
   "id": "e9cc2874-d630-4323-8986-8f9190fbac70",
   "metadata": {},
   "outputs": [
    {
     "data": {
      "text/plain": [
       "3"
      ]
     },
     "execution_count": 19,
     "metadata": {},
     "output_type": "execute_result"
    }
   ],
   "source": [
    "Cities.count(\"karachi\")"
   ]
  },
  {
   "cell_type": "code",
   "execution_count": 20,
   "id": "73bacef4-94f5-4bba-99b1-1a9c090c5e96",
   "metadata": {},
   "outputs": [
    {
     "data": {
      "text/plain": [
       "'karachi'"
      ]
     },
     "execution_count": 20,
     "metadata": {},
     "output_type": "execute_result"
    }
   ],
   "source": [
    "Cities.pop(11)"
   ]
  },
  {
   "cell_type": "code",
   "execution_count": 24,
   "id": "aade1db9-9be6-42e5-8dfd-0a3917c1a76e",
   "metadata": {},
   "outputs": [
    {
     "name": "stdout",
     "output_type": "stream",
     "text": [
      "['Atlanta', 'Baltimore', 'Chicago', 'Denver', 'LOs Angeles', 'Seattle', 'Karachi', 'Karachi', 'Karachi', 'Karachi', 'Karachi']\n"
     ]
    }
   ],
   "source": [
    "Cities.remove(\"karachi\")\n",
    "print(Cities)"
   ]
  },
  {
   "cell_type": "code",
   "execution_count": 27,
   "id": "cd868035-d6aa-4aca-a3a6-40ef5ace1109",
   "metadata": {},
   "outputs": [
    {
     "name": "stdout",
     "output_type": "stream",
     "text": [
      "[]\n"
     ]
    }
   ],
   "source": [
    "Cities.clear()\n",
    "print(Cities)\n"
   ]
  },
  {
   "cell_type": "markdown",
   "id": "f45e2bee-0614-4811-8188-07ad86dc6b1e",
   "metadata": {},
   "source": [
    "### Shallow / Deep Copy"
   ]
  },
  {
   "cell_type": "code",
   "execution_count": 31,
   "id": "568d6c9b-8f05-46fe-bae8-ecf2e3eacea7",
   "metadata": {},
   "outputs": [],
   "source": [
    "cities= [\"Atlanta\",\"Baltimore\",\"Chicago\",\"Denver\",\"LOs Angeles\",\"Seattle\"]"
   ]
  },
  {
   "cell_type": "code",
   "execution_count": 32,
   "id": "610e3f48-caa2-4003-a863-7dbcd8d0552b",
   "metadata": {},
   "outputs": [],
   "source": [
    "cities_new = cities.copy()"
   ]
  },
  {
   "cell_type": "code",
   "execution_count": 33,
   "id": "0b6c164c-a36e-4265-89e7-4fb8d2e99ab0",
   "metadata": {},
   "outputs": [
    {
     "name": "stdout",
     "output_type": "stream",
     "text": [
      "<class 'list'> 2027816248256\n"
     ]
    }
   ],
   "source": [
    "print(type(cities_new),id(cities_new))"
   ]
  },
  {
   "cell_type": "code",
   "execution_count": 34,
   "id": "ab9f8f3f-45a9-4f7e-891c-31ea2f9894fe",
   "metadata": {},
   "outputs": [
    {
     "name": "stdout",
     "output_type": "stream",
     "text": [
      "<class 'list'> 2027816248320\n"
     ]
    }
   ],
   "source": [
    "print(type(cities),id(cities))"
   ]
  },
  {
   "cell_type": "code",
   "execution_count": 35,
   "id": "76919ebe-1d5c-4422-b787-1d716bb4dfad",
   "metadata": {},
   "outputs": [],
   "source": [
    "cities_new.append(\"karachi\")"
   ]
  },
  {
   "cell_type": "code",
   "execution_count": 36,
   "id": "4717ae40-f502-4422-90c6-754e9715d9a1",
   "metadata": {},
   "outputs": [
    {
     "name": "stdout",
     "output_type": "stream",
     "text": [
      "['Atlanta', 'Baltimore', 'Chicago', 'Denver', 'LOs Angeles', 'Seattle', 'karachi']\n"
     ]
    }
   ],
   "source": [
    "print(cities_new)"
   ]
  },
  {
   "cell_type": "markdown",
   "id": "792a5ccd-584a-4b46-a64f-a0038166c54a",
   "metadata": {},
   "source": [
    "### Task"
   ]
  },
  {
   "cell_type": "markdown",
   "id": "4f276d12-7b0f-4b48-acec-bd382d35ebcf",
   "metadata": {},
   "source": [
    "- Implemented Deep copy concept on list (H.W)\n",
    "- Adding Values at different index wihout.insert()method"
   ]
  },
  {
   "cell_type": "code",
   "execution_count": 37,
   "id": "8bf36767-6b11-4112-ad69-b7bfa0b1cdbc",
   "metadata": {},
   "outputs": [],
   "source": [
    "cities[0] = \"hydearbad\""
   ]
  },
  {
   "cell_type": "code",
   "execution_count": 38,
   "id": "c4c19f00-e53f-4b58-8e1b-6f340890a66d",
   "metadata": {},
   "outputs": [
    {
     "data": {
      "text/plain": [
       "['hydearbad', 'Baltimore', 'Chicago', 'Denver', 'LOs Angeles', 'Seattle']"
      ]
     },
     "execution_count": 38,
     "metadata": {},
     "output_type": "execute_result"
    }
   ],
   "source": [
    "cities"
   ]
  },
  {
   "cell_type": "code",
   "execution_count": 39,
   "id": "786a0ec9-0a6b-41dc-b8fb-d6fe5d71f71a",
   "metadata": {},
   "outputs": [
    {
     "name": "stdout",
     "output_type": "stream",
     "text": [
      "<class 'list'> 2027816248320\n"
     ]
    }
   ],
   "source": [
    "cities_new=cities\n",
    "print(type(cities_new),id(cities_new))"
   ]
  },
  {
   "cell_type": "code",
   "execution_count": 40,
   "id": "ae3a25d6-831d-4a77-beff-95546f1387ef",
   "metadata": {},
   "outputs": [
    {
     "name": "stdout",
     "output_type": "stream",
     "text": [
      "<class 'list'> 2027816248320\n"
     ]
    }
   ],
   "source": [
    "print(type(cities),id(cities))"
   ]
  },
  {
   "cell_type": "code",
   "execution_count": 41,
   "id": "4c7d4fd0-2d5e-4c33-a51a-7c6b571de9d0",
   "metadata": {},
   "outputs": [
    {
     "data": {
      "text/plain": [
       "['Chicago', 'Denver', 'LOs Angeles', 'Seattle']"
      ]
     },
     "execution_count": 41,
     "metadata": {},
     "output_type": "execute_result"
    }
   ],
   "source": [
    "cities[2:]"
   ]
  },
  {
   "cell_type": "code",
   "execution_count": 42,
   "id": "c44f1d00-a521-4549-8513-a3b51bed5775",
   "metadata": {},
   "outputs": [
    {
     "data": {
      "text/plain": [
       "['hydearbad', 'Baltimore', 'Chicago', 'Denver', 'LOs Angeles', 'Seattle']"
      ]
     },
     "execution_count": 42,
     "metadata": {},
     "output_type": "execute_result"
    }
   ],
   "source": [
    "cities[0:]"
   ]
  },
  {
   "cell_type": "code",
   "execution_count": 43,
   "id": "a091aee7-5421-4a0e-a49a-4ebbc7324e4f",
   "metadata": {},
   "outputs": [
    {
     "data": {
      "text/plain": [
       "['hydearbad', 'Baltimore', 'Chicago']"
      ]
     },
     "execution_count": 43,
     "metadata": {},
     "output_type": "execute_result"
    }
   ],
   "source": [
    "cities[0:3]"
   ]
  },
  {
   "cell_type": "code",
   "execution_count": 46,
   "id": "c20d5162-baf3-4755-8768-c01c15458be6",
   "metadata": {},
   "outputs": [
    {
     "data": {
      "text/plain": [
       "['Seattle', 'LOs Angeles', 'Denver', 'Chicago', 'Baltimore', 'hydearbad']"
      ]
     },
     "execution_count": 46,
     "metadata": {},
     "output_type": "execute_result"
    }
   ],
   "source": [
    "cities[::-1]\n"
   ]
  },
  {
   "cell_type": "markdown",
   "id": "e630b439-8c93-4d8f-8809-120380fd6fed",
   "metadata": {},
   "source": [
    "Task: create a list name of students and apply all methods that we learn today"
   ]
  },
  {
   "cell_type": "code",
   "execution_count": 47,
   "id": "3e09dc83-0b4c-4a71-8107-17638c0ba74a",
   "metadata": {},
   "outputs": [],
   "source": [
    "Students=[\"muneeb\",\"ali\",\"hamza\",\"sheraz\"]\n"
   ]
  },
  {
   "cell_type": "code",
   "execution_count": 49,
   "id": "20ffd6d1-53d3-40e4-b4d4-93df581d7d7a",
   "metadata": {},
   "outputs": [],
   "source": [
    "Students.append(\"kashif\")\n"
   ]
  },
  {
   "cell_type": "code",
   "execution_count": 50,
   "id": "813c94a1-f06b-42e9-b21e-b1f1bdf380a4",
   "metadata": {},
   "outputs": [
    {
     "data": {
      "text/plain": [
       "['muneeb', 'ali', 'hamza', 'sheraz', 'kashif']"
      ]
     },
     "execution_count": 50,
     "metadata": {},
     "output_type": "execute_result"
    }
   ],
   "source": [
    "Students\n"
   ]
  },
  {
   "cell_type": "code",
   "execution_count": 52,
   "id": "19eb3e1d-08e7-4bbe-9117-1e777da66b1a",
   "metadata": {},
   "outputs": [
    {
     "data": {
      "text/plain": [
       "4"
      ]
     },
     "execution_count": 52,
     "metadata": {},
     "output_type": "execute_result"
    }
   ],
   "source": [
    "Students.index(\"kashif\")"
   ]
  },
  {
   "cell_type": "code",
   "execution_count": 53,
   "id": "150f7f64-8802-4a5f-99c1-bdff224fb081",
   "metadata": {},
   "outputs": [
    {
     "data": {
      "text/plain": [
       "'kashif'"
      ]
     },
     "execution_count": 53,
     "metadata": {},
     "output_type": "execute_result"
    }
   ],
   "source": [
    "Students.pop(4)"
   ]
  },
  {
   "cell_type": "code",
   "execution_count": 55,
   "id": "2dad66a6-73be-4894-b91b-2485e16b80b9",
   "metadata": {},
   "outputs": [
    {
     "data": {
      "text/plain": [
       "['muneeb', 'ali', 'hamza', 'sheraz']"
      ]
     },
     "execution_count": 55,
     "metadata": {},
     "output_type": "execute_result"
    }
   ],
   "source": [
    "Students"
   ]
  },
  {
   "cell_type": "code",
   "execution_count": 63,
   "id": "72cd14ae-4591-4fde-a914-0bf7b6df0c27",
   "metadata": {},
   "outputs": [],
   "source": [
    "Students.insert(1,\"umer\")"
   ]
  },
  {
   "cell_type": "code",
   "execution_count": 64,
   "id": "47a9e082-28c7-497b-a2b2-6ee96ad22bf6",
   "metadata": {},
   "outputs": [
    {
     "data": {
      "text/plain": [
       "['umer', 'umer', 'umer', 'umer', 'muneeb', 'ali', 'hamza', 'sheraz']"
      ]
     },
     "execution_count": 64,
     "metadata": {},
     "output_type": "execute_result"
    }
   ],
   "source": [
    "Students"
   ]
  },
  {
   "cell_type": "code",
   "execution_count": 65,
   "id": "7add0914-f28b-4396-b626-a8fdbdddae82",
   "metadata": {},
   "outputs": [
    {
     "data": {
      "text/plain": [
       "4"
      ]
     },
     "execution_count": 65,
     "metadata": {},
     "output_type": "execute_result"
    }
   ],
   "source": [
    "Students.count(\"umer\")"
   ]
  },
  {
   "cell_type": "code",
   "execution_count": 67,
   "id": "e637b708-1208-484f-9152-0ecec5663e8d",
   "metadata": {},
   "outputs": [
    {
     "data": {
      "text/plain": [
       "'umer'"
      ]
     },
     "execution_count": 67,
     "metadata": {},
     "output_type": "execute_result"
    }
   ],
   "source": [
    "Students.pop(0)"
   ]
  },
  {
   "cell_type": "code",
   "execution_count": 68,
   "id": "64a8cd53-13d9-47c7-ad85-97e0411e50f7",
   "metadata": {},
   "outputs": [
    {
     "data": {
      "text/plain": [
       "'umer'"
      ]
     },
     "execution_count": 68,
     "metadata": {},
     "output_type": "execute_result"
    }
   ],
   "source": [
    "Students.pop(1)"
   ]
  },
  {
   "cell_type": "code",
   "execution_count": 70,
   "id": "eac61e2a-b1aa-452f-92b0-b920eb4be593",
   "metadata": {},
   "outputs": [
    {
     "data": {
      "text/plain": [
       "'umer'"
      ]
     },
     "execution_count": 70,
     "metadata": {},
     "output_type": "execute_result"
    }
   ],
   "source": [
    "Students.pop(0)\n"
   ]
  },
  {
   "cell_type": "code",
   "execution_count": 71,
   "id": "48f74042-1f3a-4a83-8736-1d36abd560f8",
   "metadata": {},
   "outputs": [
    {
     "data": {
      "text/plain": [
       "'umer'"
      ]
     },
     "execution_count": 71,
     "metadata": {},
     "output_type": "execute_result"
    }
   ],
   "source": [
    "Students.pop(0)"
   ]
  },
  {
   "cell_type": "code",
   "execution_count": 72,
   "id": "bea05de3-dbf9-4395-9724-834383e93209",
   "metadata": {},
   "outputs": [
    {
     "data": {
      "text/plain": [
       "['muneeb', 'ali', 'hamza', 'sheraz']"
      ]
     },
     "execution_count": 72,
     "metadata": {},
     "output_type": "execute_result"
    }
   ],
   "source": [
    "Students\n"
   ]
  },
  {
   "cell_type": "code",
   "execution_count": 74,
   "id": "7f8c44ce-ca22-452d-af89-6ffe255e5658",
   "metadata": {},
   "outputs": [],
   "source": [
    "Students1=[\"kashif\",\"umer\"]\n",
    "Students.extend(Students1)"
   ]
  },
  {
   "cell_type": "code",
   "execution_count": 75,
   "id": "03120a18-d3a7-43c9-a0da-82fe23d798fe",
   "metadata": {},
   "outputs": [
    {
     "data": {
      "text/plain": [
       "['muneeb', 'ali', 'hamza', 'sheraz', 'kashif', 'umer']"
      ]
     },
     "execution_count": 75,
     "metadata": {},
     "output_type": "execute_result"
    }
   ],
   "source": [
    "Students"
   ]
  },
  {
   "cell_type": "code",
   "execution_count": 76,
   "id": "210c71ab-449b-4516-852c-85bd6fe68aaf",
   "metadata": {},
   "outputs": [],
   "source": [
    "Students.reverse()"
   ]
  },
  {
   "cell_type": "code",
   "execution_count": 77,
   "id": "c3dc5a53-8395-465b-ae7c-1117c52e1d86",
   "metadata": {},
   "outputs": [
    {
     "data": {
      "text/plain": [
       "['umer', 'kashif', 'sheraz', 'hamza', 'ali', 'muneeb']"
      ]
     },
     "execution_count": 77,
     "metadata": {},
     "output_type": "execute_result"
    }
   ],
   "source": [
    "Students"
   ]
  },
  {
   "cell_type": "code",
   "execution_count": 78,
   "id": "e5bcf357-bbfa-4006-9769-37b9eb5853b8",
   "metadata": {},
   "outputs": [],
   "source": [
    "Students.sort()"
   ]
  },
  {
   "cell_type": "code",
   "execution_count": 79,
   "id": "96896639-54f4-4f21-91d3-2ddf35c8e78d",
   "metadata": {},
   "outputs": [
    {
     "data": {
      "text/plain": [
       "['ali', 'hamza', 'kashif', 'muneeb', 'sheraz', 'umer']"
      ]
     },
     "execution_count": 79,
     "metadata": {},
     "output_type": "execute_result"
    }
   ],
   "source": [
    "Students"
   ]
  },
  {
   "cell_type": "code",
   "execution_count": 80,
   "id": "9ca5f7b8-c36d-4257-8e04-62c4aa4d850a",
   "metadata": {},
   "outputs": [],
   "source": [
    "Students.append(\"umer\")"
   ]
  },
  {
   "cell_type": "code",
   "execution_count": 82,
   "id": "bab4b7b7-08ee-4c06-b341-8418fa5a9101",
   "metadata": {},
   "outputs": [
    {
     "data": {
      "text/plain": [
       "['ali', 'hamza', 'kashif', 'muneeb', 'sheraz', 'umer', 'umer']"
      ]
     },
     "execution_count": 82,
     "metadata": {},
     "output_type": "execute_result"
    }
   ],
   "source": [
    "Students"
   ]
  },
  {
   "cell_type": "code",
   "execution_count": 83,
   "id": "3bc20198-fd34-4fd8-85a0-3d4109918760",
   "metadata": {},
   "outputs": [],
   "source": [
    "Students.remove(\"umer\")"
   ]
  },
  {
   "cell_type": "code",
   "execution_count": 84,
   "id": "55caf81f-b45f-4b95-97b8-113d4f2a5cff",
   "metadata": {},
   "outputs": [
    {
     "data": {
      "text/plain": [
       "['ali', 'hamza', 'kashif', 'muneeb', 'sheraz', 'umer']"
      ]
     },
     "execution_count": 84,
     "metadata": {},
     "output_type": "execute_result"
    }
   ],
   "source": [
    "Students"
   ]
  },
  {
   "cell_type": "code",
   "execution_count": 85,
   "id": "c9e0ea7d-bb2f-426a-80d0-df0473db642b",
   "metadata": {},
   "outputs": [],
   "source": [
    "Students.remove(\"umer\")\n"
   ]
  },
  {
   "cell_type": "code",
   "execution_count": 86,
   "id": "0011bbf3-a1d0-4d93-b360-1bfde9572383",
   "metadata": {},
   "outputs": [
    {
     "data": {
      "text/plain": [
       "['ali', 'hamza', 'kashif', 'muneeb', 'sheraz']"
      ]
     },
     "execution_count": 86,
     "metadata": {},
     "output_type": "execute_result"
    }
   ],
   "source": [
    "Students"
   ]
  },
  {
   "cell_type": "code",
   "execution_count": 90,
   "id": "6c1bd52b-14e5-40af-974c-fab5508a3f8a",
   "metadata": {},
   "outputs": [],
   "source": [
    "Students.clear()"
   ]
  },
  {
   "cell_type": "code",
   "execution_count": 91,
   "id": "f103c6e8-7e04-44fc-a164-08bb4b75a56b",
   "metadata": {},
   "outputs": [
    {
     "data": {
      "text/plain": [
       "[]"
      ]
     },
     "execution_count": 91,
     "metadata": {},
     "output_type": "execute_result"
    }
   ],
   "source": [
    "Students"
   ]
  },
  {
   "cell_type": "code",
   "execution_count": 115,
   "id": "cc07cb8b-98b1-4a77-bbd4-22197f178432",
   "metadata": {},
   "outputs": [
    {
     "name": "stdout",
     "output_type": "stream",
     "text": [
      "<class 'list'> 2027819533696\n"
     ]
    }
   ],
   "source": [
    "students = [\"Ali\", \"Sara\", \"Usman\"]\n",
    "students_new = students.copy()\n",
    "print(type(students_new),id(students_new))"
   ]
  },
  {
   "cell_type": "code",
   "execution_count": 116,
   "id": "4b51995f-6456-4e79-b99d-06c3e7d40f4c",
   "metadata": {},
   "outputs": [
    {
     "name": "stdout",
     "output_type": "stream",
     "text": [
      "<class 'list'> 2027819533632\n"
     ]
    }
   ],
   "source": [
    "print(type(students),id(students))"
   ]
  },
  {
   "cell_type": "markdown",
   "id": "92742fec-137c-4641-871b-93486564246d",
   "metadata": {},
   "source": [
    "### Set"
   ]
  },
  {
   "cell_type": "code",
   "execution_count": 118,
   "id": "2af41e92-4b91-4c47-97c1-17202e38c646",
   "metadata": {},
   "outputs": [],
   "source": [
    "set1={\"a\",\"b\"}\n",
    "set2={\"c\",\"d\"}\n",
    "uset={\"a\",\"b\",\"c\",\"d\",\"e\"}"
   ]
  },
  {
   "cell_type": "code",
   "execution_count": 119,
   "id": "b2a9af65-5d57-4fd6-98c6-287da43261c7",
   "metadata": {},
   "outputs": [
    {
     "data": {
      "text/plain": [
       "{'a', 'b'}"
      ]
     },
     "execution_count": 119,
     "metadata": {},
     "output_type": "execute_result"
    }
   ],
   "source": [
    "uset.intersection(set1)"
   ]
  },
  {
   "cell_type": "code",
   "execution_count": 120,
   "id": "a63c52f8-b18d-4eb7-bca3-17f025a8b9c6",
   "metadata": {},
   "outputs": [
    {
     "data": {
      "text/plain": [
       "{'a', 'b', 'c', 'd', 'e'}"
      ]
     },
     "execution_count": 120,
     "metadata": {},
     "output_type": "execute_result"
    }
   ],
   "source": [
    "uset.union(set2)"
   ]
  },
  {
   "cell_type": "markdown",
   "id": "635dbd60-2196-47dd-9cf8-d89a03f807f1",
   "metadata": {},
   "source": [
    "### Task"
   ]
  },
  {
   "cell_type": "markdown",
   "id": "23afcdbc-4814-403d-8360-49332aa721ff",
   "metadata": {},
   "source": [
    "- Create a student tuple of names and apply all methods that we learn today\n",
    "- Create a student set of name and apply all methods that we learn today"
   ]
  },
  {
   "cell_type": "code",
   "execution_count": 129,
   "id": "a75aeab7-9566-49cc-a897-e203e161b31a",
   "metadata": {},
   "outputs": [
    {
     "name": "stdout",
     "output_type": "stream",
     "text": [
      "('Ali', 'Sara', 'Usman')\n"
     ]
    }
   ],
   "source": [
    "students = [\"Ali\", \"Sara\", \"Usman\"]\n",
    "students_t = tuple(students)\n",
    "print(students_t)\n",
    "\n"
   ]
  },
  {
   "cell_type": "code",
   "execution_count": 134,
   "id": "45375aad-3679-4279-ad39-26abd7f5797c",
   "metadata": {},
   "outputs": [
    {
     "data": {
      "text/plain": [
       "1"
      ]
     },
     "execution_count": 134,
     "metadata": {},
     "output_type": "execute_result"
    }
   ],
   "source": [
    "students_t.count(\"Usman\")"
   ]
  },
  {
   "cell_type": "code",
   "execution_count": 135,
   "id": "014eec54-bbf6-4a4b-8789-3a208b07fbfe",
   "metadata": {},
   "outputs": [
    {
     "data": {
      "text/plain": [
       "0"
      ]
     },
     "execution_count": 135,
     "metadata": {},
     "output_type": "execute_result"
    }
   ],
   "source": [
    "students_t.index(\"Ali\")"
   ]
  },
  {
   "cell_type": "code",
   "execution_count": 146,
   "id": "83b3aeb7-cc1b-4c7d-9d93-944b2c6e0a6d",
   "metadata": {},
   "outputs": [],
   "source": [
    "student1={'Ali', 'Sara', 'Usman'}\n",
    "student2={'Umer','kashif'}\n",
    "students={'Ali', 'Sara', 'Usman','Umer','kashif','sheraz'}\n"
   ]
  },
  {
   "cell_type": "code",
   "execution_count": 148,
   "id": "cd93df55-d4ee-452b-9d3e-4ce4f59efb50",
   "metadata": {},
   "outputs": [
    {
     "data": {
      "text/plain": [
       "{'Ali', 'Sara', 'Usman'}"
      ]
     },
     "execution_count": 148,
     "metadata": {},
     "output_type": "execute_result"
    }
   ],
   "source": [
    "students.intersection(student1)"
   ]
  },
  {
   "cell_type": "code",
   "execution_count": 147,
   "id": "78696d85-d6ae-4bca-8a76-731cf7c63256",
   "metadata": {},
   "outputs": [
    {
     "data": {
      "text/plain": [
       "{'Ali', 'Sara', 'Umer', 'Usman', 'kashif', 'sheraz'}"
      ]
     },
     "execution_count": 147,
     "metadata": {},
     "output_type": "execute_result"
    }
   ],
   "source": [
    "students.union(student2)"
   ]
  },
  {
   "cell_type": "code",
   "execution_count": 149,
   "id": "d73a47a5-33d6-4bf0-a7cd-1f76d6a88a59",
   "metadata": {},
   "outputs": [
    {
     "data": {
      "text/plain": [
       "{'Ali', 'Sara', 'Usman', 'sheraz'}"
      ]
     },
     "execution_count": 149,
     "metadata": {},
     "output_type": "execute_result"
    }
   ],
   "source": [
    "students.difference(student2)"
   ]
  },
  {
   "cell_type": "code",
   "execution_count": 155,
   "id": "868e62c0-3299-48c4-874c-3ae2ae62942a",
   "metadata": {},
   "outputs": [],
   "source": [
    "students.discard('Ali')"
   ]
  },
  {
   "cell_type": "code",
   "execution_count": 156,
   "id": "ea28efc6-8a1b-4de1-ba1b-d7724673fc6f",
   "metadata": {},
   "outputs": [
    {
     "data": {
      "text/plain": [
       "{'Sara', 'Umer', 'Usman', 'kashif', 'sheraz'}"
      ]
     },
     "execution_count": 156,
     "metadata": {},
     "output_type": "execute_result"
    }
   ],
   "source": [
    "students\n"
   ]
  },
  {
   "cell_type": "code",
   "execution_count": 161,
   "id": "2003faea-8c8e-42b6-a3c5-1baf503c1cb0",
   "metadata": {},
   "outputs": [
    {
     "data": {
      "text/plain": [
       "'Usman'"
      ]
     },
     "execution_count": 161,
     "metadata": {},
     "output_type": "execute_result"
    }
   ],
   "source": [
    "students.pop()"
   ]
  },
  {
   "cell_type": "code",
   "execution_count": 2,
   "id": "72c43134-0ce5-4010-864b-f6491ca82418",
   "metadata": {},
   "outputs": [],
   "source": [
    "student1={'Ali', 'Sara', 'Usman'}\n",
    "student2={'Umer','kashif'}\n",
    "students={'Ali', 'Sara', 'Usman','Umer','kashif','sheraz'}"
   ]
  },
  {
   "cell_type": "code",
   "execution_count": 4,
   "id": "cd1d06e5-ef47-4790-b87a-c65e5183e099",
   "metadata": {},
   "outputs": [],
   "source": [
    "students.remove('Ali')"
   ]
  },
  {
   "cell_type": "code",
   "execution_count": 5,
   "id": "3ce7ca5b-f953-4c61-8b41-7e1de02409bd",
   "metadata": {},
   "outputs": [
    {
     "data": {
      "text/plain": [
       "{'Sara', 'Umer', 'Usman', 'kashif', 'sheraz'}"
      ]
     },
     "execution_count": 5,
     "metadata": {},
     "output_type": "execute_result"
    }
   ],
   "source": [
    "students\n"
   ]
  },
  {
   "cell_type": "code",
   "execution_count": 6,
   "id": "02310f44-fac1-42f5-aec2-0e1790feb588",
   "metadata": {},
   "outputs": [],
   "source": [
    "students.add('Ali')"
   ]
  },
  {
   "cell_type": "code",
   "execution_count": 7,
   "id": "15ef8c1a-2e74-4a34-9fc8-4a1282acf6bf",
   "metadata": {},
   "outputs": [
    {
     "data": {
      "text/plain": [
       "{'Ali', 'Sara', 'Umer', 'Usman', 'kashif', 'sheraz'}"
      ]
     },
     "execution_count": 7,
     "metadata": {},
     "output_type": "execute_result"
    }
   ],
   "source": [
    "students\n"
   ]
  },
  {
   "cell_type": "code",
   "execution_count": 9,
   "id": "21c62174-dca1-49b7-9d43-dd4f6cb30816",
   "metadata": {},
   "outputs": [],
   "source": [
    "sl=['Shano','fahad']"
   ]
  },
  {
   "cell_type": "code",
   "execution_count": 10,
   "id": "b87ada6f-4c1f-4e12-b144-c72759d88680",
   "metadata": {},
   "outputs": [],
   "source": [
    "students.update(sl)"
   ]
  },
  {
   "cell_type": "code",
   "execution_count": 11,
   "id": "16fed88f-4fc6-40e2-82d1-00e2960c8876",
   "metadata": {},
   "outputs": [
    {
     "data": {
      "text/plain": [
       "{'Ali', 'Sara', 'Shano', 'Umer', 'Usman', 'fahad', 'kashif', 'sheraz'}"
      ]
     },
     "execution_count": 11,
     "metadata": {},
     "output_type": "execute_result"
    }
   ],
   "source": [
    "students"
   ]
  },
  {
   "cell_type": "markdown",
   "id": "83b7780e-a772-4804-89ce-5670ca11eb69",
   "metadata": {},
   "source": [
    "### Shallow and deep copy"
   ]
  },
  {
   "cell_type": "code",
   "execution_count": null,
   "id": "23139e04-254e-46ea-8f4e-98829ab06194",
   "metadata": {},
   "outputs": [],
   "source": []
  }
 ],
 "metadata": {
  "kernelspec": {
   "display_name": "Python 3 (ipykernel)",
   "language": "python",
   "name": "python3"
  },
  "language_info": {
   "codemirror_mode": {
    "name": "ipython",
    "version": 3
   },
   "file_extension": ".py",
   "mimetype": "text/x-python",
   "name": "python",
   "nbconvert_exporter": "python",
   "pygments_lexer": "ipython3",
   "version": "3.13.5"
  }
 },
 "nbformat": 4,
 "nbformat_minor": 5
}
